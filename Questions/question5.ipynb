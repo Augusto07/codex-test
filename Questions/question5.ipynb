{
 "cells": [
  {
   "cell_type": "markdown",
   "metadata": {},
   "source": [
    "# Question 05\n",
    "\n",
    "Application that queries a server and displays the current date/time hour in local and UTC\n",
    "timezones.\n",
    "Server URL: http://worldclockapi.com/api/json/utc/now"
   ]
  },
  {
   "cell_type": "code",
   "execution_count": 1,
   "metadata": {},
   "outputs": [],
   "source": [
    "import requests\n",
    "import json"
   ]
  },
  {
   "cell_type": "code",
   "execution_count": 7,
   "metadata": {},
   "outputs": [
    {
     "name": "stdout",
     "output_type": "stream",
     "text": [
      "Date UTC: 2021-11-24\n",
      "Time UTC: 18:24\n"
     ]
    }
   ],
   "source": [
    "url = 'http://worldclockapi.com/api/json/utc/now'\n",
    "\n",
    "url_data = requests.get(url).json() #request and parsing\n",
    "\n",
    "date, time = url_data['currentDateTime'].split('T')\n",
    "time = time.replace('Z', '')\n",
    "\n",
    "print(f\"Date UTC: {date}\")\n",
    "print(f\"Time UTC: {time}\")"
   ]
  },
  {
   "cell_type": "code",
   "execution_count": null,
   "metadata": {},
   "outputs": [],
   "source": []
  }
 ],
 "metadata": {
  "interpreter": {
   "hash": "8d86c190dfcadcdaa67edec4a1ea82702241987b5b1f320c920d3d4ca36fee5b"
  },
  "kernelspec": {
   "display_name": "Python 3.8.8 64-bit ('base': conda)",
   "language": "python",
   "name": "python3"
  },
  "language_info": {
   "codemirror_mode": {
    "name": "ipython",
    "version": 3
   },
   "file_extension": ".py",
   "mimetype": "text/x-python",
   "name": "python",
   "nbconvert_exporter": "python",
   "pygments_lexer": "ipython3",
   "version": "3.8.8"
  },
  "orig_nbformat": 4
 },
 "nbformat": 4,
 "nbformat_minor": 2
}
