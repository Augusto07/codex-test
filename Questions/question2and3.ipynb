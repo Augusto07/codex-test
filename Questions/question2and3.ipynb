{
 "cells": [
  {
   "cell_type": "markdown",
   "metadata": {},
   "source": [
    "# Question 02\n",
    "\n",
    "Considering two rectangles in a discrete grid (like pixels in a display), each defined by two\n",
    "points, return true if they intersect, false otherwise.\n",
    "\n",
    "* Note: the points are included in the rectangle and have a dimension of 1 unit; the rectangle (0, 0; 1, 1) have an area of 4 units\n",
    "\n",
    "# Question 03\n",
    "\n",
    "Considering two rectangles in a discrete grid (like pixels in a display), each defined by two\n",
    "points, compute the area of intersection between the two."
   ]
  },
  {
   "cell_type": "code",
   "execution_count": 10,
   "metadata": {},
   "outputs": [],
   "source": [
    "def areaOfIntersection(points):\n",
    "    if (len(points) == 2):\n",
    "        return (1+abs(points[0][1] - points[1][1]))*(1+abs(points[0][0] - points[1][0]))\n",
    "    else:\n",
    "        return len(points)"
   ]
  },
  {
   "cell_type": "code",
   "execution_count": 11,
   "metadata": {},
   "outputs": [],
   "source": [
    "def get_points(square, y, x):\n",
    "\n",
    "    total_points_A = []\n",
    "\n",
    "    for i in range(0, len(y)):\n",
    "        total_points_A.append([square[0][0], y[i]])\n",
    "        total_points_A.append([square[1][0], y[i]])\n",
    "\n",
    "    for i in range(1, len(x)-1): #avoid repetition\n",
    "        total_points_A.append([x[i], square[1][1]])\n",
    "        total_points_A.append([x[i], square[0][1]])\n",
    "\n",
    "    return total_points_A"
   ]
  },
  {
   "cell_type": "code",
   "execution_count": 12,
   "metadata": {},
   "outputs": [],
   "source": [
    "def intersection(points_a, points_b):\n",
    "    intersec = []\n",
    "    for i in points_a:\n",
    "        for j in points_b:\n",
    "            if i == j:\n",
    "                intersec.append(i)\n",
    "    return intersec"
   ]
  },
  {
   "cell_type": "code",
   "execution_count": 13,
   "metadata": {},
   "outputs": [],
   "source": [
    "def Intersects(A, B):\n",
    "\n",
    "    y_A = [int(y) for y in range(A[0][1], A[1][1]+1)]\n",
    "    x_A = [int(x) for x in range(A[0][0], A[1][0]+1)]\n",
    "    total_points_A = get_points(A, y_A, x_A) #return each point (x, y) of A\n",
    "\n",
    "    y_B = [int(y) for y in range(B[0][1], B[1][1]+1)]\n",
    "    x_B = [int(x) for x in range(B[0][0], B[1][0]+1)]\n",
    "    total_points_B = get_points(B, y_B, x_B) #return each point (x, y) of B\n",
    "\n",
    "    intersec = intersection(total_points_A, total_points_B) #find points in common between A and B\n",
    "\n",
    "    if (intersec):\n",
    "        return True, intersec\n",
    "    else:\n",
    "        return False, intersec"
   ]
  },
  {
   "cell_type": "code",
   "execution_count": 15,
   "metadata": {},
   "outputs": [
    {
     "name": "stdout",
     "output_type": "stream",
     "text": [
      "True\n",
      "15\n"
     ]
    }
   ],
   "source": [
    "A = [[3, 5], [11, 11]] #define A\n",
    "B = [[7, 2], [13, 7]] #define B\n",
    "\n",
    "check, points = Intersects(A, B)\n",
    "\n",
    "print(check)\n",
    "\n",
    "if (check):\n",
    "    area = areaOfIntersection(points)\n",
    "    print(area)\n"
   ]
  }
 ],
 "metadata": {
  "interpreter": {
   "hash": "8d86c190dfcadcdaa67edec4a1ea82702241987b5b1f320c920d3d4ca36fee5b"
  },
  "kernelspec": {
   "display_name": "Python 3.8.8 64-bit ('base': conda)",
   "language": "python",
   "name": "python3"
  },
  "language_info": {
   "codemirror_mode": {
    "name": "ipython",
    "version": 3
   },
   "file_extension": ".py",
   "mimetype": "text/x-python",
   "name": "python",
   "nbconvert_exporter": "python",
   "pygments_lexer": "ipython3",
   "version": "3.8.8"
  },
  "orig_nbformat": 4
 },
 "nbformat": 4,
 "nbformat_minor": 2
}
