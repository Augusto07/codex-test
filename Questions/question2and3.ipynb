{
 "cells": [
  {
   "cell_type": "markdown",
   "metadata": {},
   "source": [
    "# Question 02\n",
    "\n",
    "Considering two rectangles in a discrete grid (like pixels in a display), each defined by two\n",
    "points, return true if they intersect, false otherwise.\n",
    "\n",
    "* Note: the points are included in the rectangle and have a dimension of 1 unit; the rectangle (0, 0; 1, 1) have an area of 4 units\n",
    "\n",
    "# Question 03\n",
    "\n",
    "Considering two rectangles in a discrete grid (like pixels in a display), each defined by two\n",
    "points, compute the area of intersection between the two."
   ]
  },
  {
   "cell_type": "code",
   "execution_count": 11,
   "metadata": {},
   "outputs": [],
   "source": [
    "def areaOfIntersection(points):\n",
    "\n",
    "    if (len(points) == 2):\n",
    "        \n",
    "        return (1+abs(points[0][1] - points[1][1]))*(1+abs(points[0][0] - points[1][0]))\n",
    "    \n",
    "    else:\n",
    "        return len(points)\n",
    "\n"
   ]
  },
  {
   "cell_type": "code",
   "execution_count": 12,
   "metadata": {},
   "outputs": [],
   "source": [
    "def get_points(square, pts1, pts2):\n",
    "\n",
    "    total_points_A = []\n",
    "    for i in pts1:\n",
    "        total_points_A.append([square[0][0], i])\n",
    "        total_points_A.append([square[1][0], i])\n",
    "    for i in pts2:\n",
    "        total_points_A.append([i, square[0][1]])\n",
    "        total_points_A.append([i, square[1][1]])\n",
    "\n",
    "    return total_points_A"
   ]
  },
  {
   "cell_type": "code",
   "execution_count": 13,
   "metadata": {},
   "outputs": [],
   "source": [
    "def intersection(lst1, lst2):\n",
    "    intersec = []\n",
    "    for i in lst1:\n",
    "        for j in lst2:\n",
    "            if i == j:\n",
    "                intersec.append(i)\n",
    "    return intersec"
   ]
  },
  {
   "cell_type": "code",
   "execution_count": 14,
   "metadata": {},
   "outputs": [],
   "source": [
    "def intersects(A, B):\n",
    "\n",
    "    points1_A = {int(x) for x in range(A[0][1], A[1][1])}\n",
    "    points2_A = {int(x) for x in range(A[0][0], A[1][0])}\n",
    "    total_points_A = get_points(A, points1_A, points2_A)\n",
    "\n",
    "    points1_B = {int(x) for x in range(B[0][1], B[1][1])}\n",
    "    points2_B = {int(x) for x in range(B[0][0], B[1][0])}\n",
    "    total_points_B = get_points(B, points1_B, points2_B)\n",
    "\n",
    "    print(total_points_A)\n",
    "    print(total_points_B)\n",
    "\n",
    "    intersec = intersection(total_points_A, total_points_B)\n",
    "\n",
    "    if (intersec):\n",
    "        return True, intersec\n",
    "    else:\n",
    "        return False"
   ]
  },
  {
   "cell_type": "code",
   "execution_count": 15,
   "metadata": {},
   "outputs": [
    {
     "name": "stdout",
     "output_type": "stream",
     "text": [
      "[[1, 1], [4, 1], [1, 2], [4, 2], [1, 3], [4, 3], [1, 4], [4, 4], [1, 1], [1, 4], [2, 1], [2, 4], [3, 1], [3, 4], [4, 1], [4, 4]]\n",
      "[[11, 11], [15, 11], [11, 12], [15, 12], [11, 13], [15, 13], [11, 11], [11, 13], [12, 11], [12, 13], [13, 11], [13, 13], [14, 11], [14, 13], [15, 11], [15, 13]]\n"
     ]
    },
    {
     "ename": "TypeError",
     "evalue": "cannot unpack non-iterable bool object",
     "output_type": "error",
     "traceback": [
      "\u001b[1;31m---------------------------------------------------------------------------\u001b[0m",
      "\u001b[1;31mTypeError\u001b[0m                                 Traceback (most recent call last)",
      "\u001b[1;32m<ipython-input-15-15c061b6a4c8>\u001b[0m in \u001b[0;36m<module>\u001b[1;34m\u001b[0m\n\u001b[0;32m      2\u001b[0m \u001b[0mB\u001b[0m \u001b[1;33m=\u001b[0m \u001b[1;33m[\u001b[0m\u001b[1;33m[\u001b[0m\u001b[1;36m11\u001b[0m\u001b[1;33m,\u001b[0m \u001b[1;36m11\u001b[0m\u001b[1;33m]\u001b[0m\u001b[1;33m,\u001b[0m \u001b[1;33m[\u001b[0m\u001b[1;36m15\u001b[0m\u001b[1;33m,\u001b[0m \u001b[1;36m13\u001b[0m\u001b[1;33m]\u001b[0m\u001b[1;33m]\u001b[0m\u001b[1;33m\u001b[0m\u001b[1;33m\u001b[0m\u001b[0m\n\u001b[0;32m      3\u001b[0m \u001b[1;33m\u001b[0m\u001b[0m\n\u001b[1;32m----> 4\u001b[1;33m \u001b[0mcheck\u001b[0m\u001b[1;33m,\u001b[0m \u001b[0mpoints\u001b[0m \u001b[1;33m=\u001b[0m \u001b[0mintersects\u001b[0m\u001b[1;33m(\u001b[0m\u001b[0mA\u001b[0m\u001b[1;33m,\u001b[0m \u001b[0mB\u001b[0m\u001b[1;33m)\u001b[0m\u001b[1;33m\u001b[0m\u001b[1;33m\u001b[0m\u001b[0m\n\u001b[0m\u001b[0;32m      5\u001b[0m \u001b[0mprint\u001b[0m\u001b[1;33m(\u001b[0m\u001b[0mcheck\u001b[0m\u001b[1;33m)\u001b[0m\u001b[1;33m\u001b[0m\u001b[1;33m\u001b[0m\u001b[0m\n\u001b[0;32m      6\u001b[0m \u001b[0mprint\u001b[0m\u001b[1;33m(\u001b[0m\u001b[0mpoints\u001b[0m\u001b[1;33m)\u001b[0m\u001b[1;33m\u001b[0m\u001b[1;33m\u001b[0m\u001b[0m\n",
      "\u001b[1;31mTypeError\u001b[0m: cannot unpack non-iterable bool object"
     ]
    }
   ],
   "source": [
    "A = [[1, 1], [4, 4]]\n",
    "B = [[11, 11], [15, 13]]\n",
    "\n",
    "check, points = intersects(A, B)\n",
    "print(check)\n",
    "print(points)\n",
    "if (check):\n",
    "    area = areaOfIntersection(points)\n",
    "    print(area)\n"
   ]
  },
  {
   "cell_type": "code",
   "execution_count": null,
   "metadata": {},
   "outputs": [],
   "source": []
  }
 ],
 "metadata": {
  "interpreter": {
   "hash": "8d86c190dfcadcdaa67edec4a1ea82702241987b5b1f320c920d3d4ca36fee5b"
  },
  "kernelspec": {
   "display_name": "Python 3.8.8 64-bit ('base': conda)",
   "language": "python",
   "name": "python3"
  },
  "language_info": {
   "codemirror_mode": {
    "name": "ipython",
    "version": 3
   },
   "file_extension": ".py",
   "mimetype": "text/x-python",
   "name": "python",
   "nbconvert_exporter": "python",
   "pygments_lexer": "ipython3",
   "version": "3.8.8"
  },
  "orig_nbformat": 4
 },
 "nbformat": 4,
 "nbformat_minor": 2
}
