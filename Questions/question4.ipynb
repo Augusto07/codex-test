{
 "cells": [
  {
   "cell_type": "markdown",
   "metadata": {},
   "source": [
    "# Question 04\n",
    "\n",
    "Todo list application that permits the creation and deletion of tasks (texts).\n",
    "* The application must persist the tasks between executions;\n",
    "* Use any storage you want: database, files, PaaS backends (Firebase, etc.);"
   ]
  },
  {
   "cell_type": "code",
   "execution_count": 82,
   "metadata": {},
   "outputs": [],
   "source": [
    "from typing import List\n",
    "import os\n",
    "import json\n",
    "from pydantic import BaseModel"
   ]
  },
  {
   "cell_type": "code",
   "execution_count": 83,
   "metadata": {},
   "outputs": [],
   "source": [
    "class task(BaseModel):\n",
    "    id: int = 0\n",
    "    name: str = ''\n",
    "    planned_begin: str = ''\n",
    "    planned_finish: str = ''\n",
    "    desc: str = ''\n",
    "\n",
    "class task_manager(BaseModel):\n",
    "    id: int = 0\n",
    "    task_list: List[task] = []"
   ]
  },
  {
   "cell_type": "code",
   "execution_count": 84,
   "metadata": {},
   "outputs": [],
   "source": [
    "#starting\n",
    "\n",
    "def start():\n",
    "\n",
    "    tm_obj = None\n",
    "\n",
    "    if not os.path.isfile('task_manager_files.json'): #if json file don't exists\n",
    "        tm_obj = task_manager()\n",
    "    else:\n",
    "        with open('task_manager_files.json','+r') as f: #open json\n",
    "                file = json.loads(f.read())\n",
    "                tm_obj = task_manager.parse_obj(file)\n",
    "    \n",
    "    return tm_obj #object for task creation"
   ]
  },
  {
   "cell_type": "code",
   "execution_count": 89,
   "metadata": {},
   "outputs": [],
   "source": [
    "def create_new_task(tm_obj):\n",
    "    new_task = task()\n",
    "    new_task.id = tm_obj.id\n",
    "    tm_obj.id += 1\n",
    "    new_task.name = str(input(\"Insira o nome da task:\"))\n",
    "    new_task.planned_begin = str(input(\"Insira a data de início planejada:\"))\n",
    "    new_task.planned_finish = str(input(\"Insira a data de término planejada:\"))\n",
    "    new_task.desc = str(input(\"Insira a descrição da task:\"))\n",
    "    tm_obj.task_list.append(new_task)\n",
    "    print(\"Tarefa criada!\")\n",
    "    print(new_task.id, new_task.name)\n",
    "    return\n"
   ]
  },
  {
   "cell_type": "code",
   "execution_count": 86,
   "metadata": {},
   "outputs": [],
   "source": [
    "def delete_task(tm_obj):\n",
    "\n",
    "    task_id = int(input(\"Insira o Id da tarefa a ser deletada\"))\n",
    "\n",
    "    for i in tm_obj.task_list:\n",
    "        if (i.id == task_id):\n",
    "            tm_obj.task_list.remove(i)\n",
    "    \n",
    "    print(\"Task removida!\")\n",
    "    return\n",
    "    "
   ]
  },
  {
   "cell_type": "code",
   "execution_count": 87,
   "metadata": {},
   "outputs": [],
   "source": [
    "def show_tasks(tm_obj):\n",
    "\n",
    "    print(\"[ID]     [NAME]     [BEGIN]     [FINISH]     [DESC]\")\n",
    "\n",
    "    for i in tm_obj.task_list:\n",
    "        print(i.id, i.name, i.planned_begin, i.planned_finish, i.desc)\n",
    "\n",
    "    return"
   ]
  },
  {
   "cell_type": "code",
   "execution_count": 88,
   "metadata": {},
   "outputs": [
    {
     "name": "stdout",
     "output_type": "stream",
     "text": [
      "Seja bem vindo ao Codex Task Manager!\n",
      "[0] Nova task\n",
      "[1] Remover task\n",
      "[2] Ver lista de tasks\n",
      "[3] Sair\n",
      "[ID]     [NAME]     [BEGIN]     [FINISH]     [DESC]\n",
      "0 aaaa aaaa aaaa aaaa\n",
      "Task removida!\n"
     ]
    }
   ],
   "source": [
    "tm_obj = start()\n",
    "print(\"Seja bem vindo ao Codex Task Manager!\")\n",
    "print(\"[0] Nova task\")\n",
    "print(\"[1] Remover task\")\n",
    "print(\"[2] Ver lista de tasks\")\n",
    "print(\"[3] Sair\")\n",
    "opt = int(input(\"Selecione a opção desejada inserindo seu número como input:\"))\n",
    "\n",
    "while (opt != 3):\n",
    "    if (opt == 0):\n",
    "        create_new_task(tm_obj)\n",
    "    elif (opt == 1):\n",
    "        delete_task(tm_obj)\n",
    "    elif (opt == 2):\n",
    "        show_tasks(tm_obj)\n",
    "    opt = int(input(\"Selecione a opção desejada inserindo seu número como input:\"))\n",
    "\n",
    "with open('task_manager_files.json', 'w+', encoding=\"utf-8\") as f: #saving file\n",
    "    json.dump(\n",
    "        tm_obj.dict(exclude_none=True),\n",
    "        f,\n",
    "        ensure_ascii=True,\n",
    "        indent=2\n",
    "    )\n"
   ]
  }
 ],
 "metadata": {
  "interpreter": {
   "hash": "8d86c190dfcadcdaa67edec4a1ea82702241987b5b1f320c920d3d4ca36fee5b"
  },
  "kernelspec": {
   "display_name": "Python 3.8.8 64-bit ('base': conda)",
   "language": "python",
   "name": "python3"
  },
  "language_info": {
   "codemirror_mode": {
    "name": "ipython",
    "version": 3
   },
   "file_extension": ".py",
   "mimetype": "text/x-python",
   "name": "python",
   "nbconvert_exporter": "python",
   "pygments_lexer": "ipython3",
   "version": "3.8.8"
  },
  "orig_nbformat": 4
 },
 "nbformat": 4,
 "nbformat_minor": 2
}
