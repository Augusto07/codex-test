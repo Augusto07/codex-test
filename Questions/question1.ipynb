{
 "cells": [
  {
   "cell_type": "markdown",
   "metadata": {},
   "source": [
    "# Question 01\n",
    "\n",
    "Given a string, check if it looks like a CNPJ, considering two formats:\n",
    "\n",
    "* Formatted:\n",
    "\n",
    "    * \"00.000.000/0000-00\"\n",
    "\n",
    "* Number only:\n",
    "    * \"00000000000000\"\n",
    "\n",
    "Validate if it’s a well-formed CNPJ, considering the “check digits”."
   ]
  },
  {
   "cell_type": "code",
   "execution_count": 13,
   "metadata": {},
   "outputs": [],
   "source": [
    "def format_checker(cnpj):\n",
    "\n",
    "    if (len(cnpj) == 14): #only numbers\n",
    "        try:\n",
    "            int(cnpj)\n",
    "        except:\n",
    "            return False  \n",
    "    elif (len(cnpj) == 18): #numbers + symbols\n",
    "        if (cnpj[2] == '.' and cnpj[6] == '.' and cnpj[10] == '/' and cnpj[15] == '-'):\n",
    "            try:\n",
    "                int(cnpj.replace('.', '').replace('/', '').replace('-', ''))\n",
    "            except:\n",
    "                return False\n",
    "        else:\n",
    "            return False\n",
    "    else:\n",
    "        return False\n",
    "    print(\"Format OK!\")\n",
    "    return True"
   ]
  },
  {
   "cell_type": "code",
   "execution_count": 14,
   "metadata": {},
   "outputs": [],
   "source": [
    "def validated_cnpj(cnpj):\n",
    "    \n",
    "    cnpj = cnpj.replace('.', '').replace('/', '').replace('-', '')\n",
    "    cnpj_digits = [int(x) for x in str(cnpj)]\n",
    "    \n",
    "    digit1 = 5*cnpj_digits[0] + 4*cnpj_digits[1] + 3*cnpj_digits[2] + 2*cnpj_digits[3] + 9*cnpj_digits[4]\n",
    "    digit1 +=  8*cnpj_digits[5] + 7*cnpj_digits[6] + 6*cnpj_digits[7] + 5*cnpj_digits[8] + 4*cnpj_digits[9]\n",
    "    digit1 +=  3*cnpj_digits[10] + 2*cnpj_digits[11]\n",
    "    digit1 = 11 - digit1%11\n",
    "    if (digit1 >= 10):\n",
    "        digit1 = 0\n",
    "    \n",
    "    digit2 = 6*cnpj_digits[0] + 5*cnpj_digits[1] + 4*cnpj_digits[2] + 3*cnpj_digits[3] + 2*cnpj_digits[4]\n",
    "    digit2 += 9*cnpj_digits[5] + 8*cnpj_digits[6] +7*cnpj_digits[7]\n",
    "    digit2 += 6*cnpj_digits[8] + 5*cnpj_digits[9] + 4*cnpj_digits[10] + 3*cnpj_digits[11] + 2*cnpj_digits[12]\n",
    "    digit2 = 11 - digit2%11\n",
    "    if (digit2 >= 10):\n",
    "        digit2 = 0\n",
    "\n",
    "    if (digit1 == cnpj_digits[12] and digit2 == cnpj_digits[13]):\n",
    "        print(\"Digits OK!\")\n",
    "        return True\n",
    "    \n",
    "    return False"
   ]
  },
  {
   "cell_type": "code",
   "execution_count": 15,
   "metadata": {},
   "outputs": [
    {
     "name": "stdout",
     "output_type": "stream",
     "text": [
      "CNPJ incorreto - Erro de formatação.\n"
     ]
    }
   ],
   "source": [
    "cnpj = input()\n",
    "\n",
    "if (format_checker(cnpj)):\n",
    "    if (validated_cnpj(cnpj)):\n",
    "        print(\"CNPJ correto!\")\n",
    "    else:\n",
    "        print(\"CNPJ incorreto - Digito verificador incorreto.\")\n",
    "else:\n",
    "    print(\"CNPJ incorreto - Erro de formatação.\")"
   ]
  }
 ],
 "metadata": {
  "interpreter": {
   "hash": "24b38dd9283ecba2913cb82b18206c7cc2be8789d57a73405cb888b5f7474aca"
  },
  "kernelspec": {
   "display_name": "Python 3.9.4 64-bit (system)",
   "language": "python",
   "name": "python3"
  },
  "language_info": {
   "codemirror_mode": {
    "name": "ipython",
    "version": 3
   },
   "file_extension": ".py",
   "mimetype": "text/x-python",
   "name": "python",
   "nbconvert_exporter": "python",
   "pygments_lexer": "ipython3",
   "version": "3.8.8"
  },
  "orig_nbformat": 4
 },
 "nbformat": 4,
 "nbformat_minor": 2
}
