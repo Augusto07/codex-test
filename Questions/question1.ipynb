{
 "cells": [
  {
   "cell_type": "markdown",
   "metadata": {},
   "source": [
    "# Question 01\n",
    "\n",
    "Given a string, check if it looks like a CNPJ, considering two formats:\n",
    "\n",
    "* Formatted:\n",
    "\n",
    "    * \"00.000.000/0000-00\"\n",
    "\n",
    "* Number only:\n",
    "    * \"00000000000000\"\n",
    "\n",
    "Validate if it’s a well-formed CNPJ, considering the “check digits”."
   ]
  },
  {
   "cell_type": "code",
   "execution_count": 23,
   "metadata": {},
   "outputs": [],
   "source": [
    "def format_checker(cnpj):\n",
    "\n",
    "    if (len(cnpj) == 14):\n",
    "        try:\n",
    "            int(cnpj)\n",
    "        except:\n",
    "            return False  \n",
    "    elif (len(cnpj) == 18):\n",
    "        if (cnpj[2] == '.' and cnpj[6] == '.' and cnpj[10] == '/' and cnpj[15] == '-'):\n",
    "            try:\n",
    "                int(cnpj.replace('.', '').replace('/', '').replace('-', ''))\n",
    "            except:\n",
    "                return False\n",
    "        else:\n",
    "            return False\n",
    "    else:\n",
    "        return False\n",
    "    return True"
   ]
  },
  {
   "cell_type": "code",
   "execution_count": 24,
   "metadata": {},
   "outputs": [],
   "source": [
    "def validated_cnpj(cnpj):\n",
    "    \n",
    "    integer_cnpj = 0\n",
    "    try:\n",
    "        integer_cnpj = int(cnpj)\n",
    "    except:\n",
    "        integer_cnpj = int(cnpj.replace('.', '').replace('/', '').replace('-', ''))\n",
    "    \n",
    "    integer_cnpj = str(integer_cnpj)\n",
    "\n",
    "    digit1 = 5*integer_cnpj[0] + 4*integer_cnpj[1] + 3*integer_cnpj[2] + 2*integer_[3] + 9*integer_cnpj[4]\n",
    "    digit1 +=  8*integer_cnpj[5] + 7*integer_cnpj[6] + 6*integer_cnpj[7] + 5*integer_cnpj[8] + 4*integer_cnpj[9]\n",
    "    digit1 +=  3*integer_cnpj[10] + 2*integer_cnpj[11]\n",
    "    digit1 = 11 - digit1%11\n",
    "    if digit1 >= 10:\n",
    "        digit1 = 0\n",
    "    \n",
    "    digit2 = 6*integer_cnpj[0] + 5*integer_cnpj[1] + 4*integer_cnpj[2] + 3*integer_cnpj[3] + 2*integer_cnpj[4]\n",
    "    digit2 += 9*integer_cnpj[5] + 8*integer_cnpj[6] +7*integer_cnpj[7]\n",
    "    digit2 += 6*integer_cnpj[8] + 5*integer_cnpj[9] + 4*integer_cnpj[10] + 3*integer_cnpj[11] + 2*integer_cnpj[12]\n",
    "    digit2 = 11 - digit2%11\n",
    "    if (digit2 >= 10):\n",
    "        digit2 = 0\n",
    "\n",
    "    if (str(digit1) == str(integer_cnpj)[12] and str(digit2) == str(integer_cnpj)[13]):\n",
    "        return True\n",
    "    \n",
    "    return False"
   ]
  },
  {
   "cell_type": "code",
   "execution_count": 25,
   "metadata": {},
   "outputs": [
    {
     "ename": "TypeError",
     "evalue": "'int' object is not subscriptable",
     "output_type": "error",
     "traceback": [
      "\u001b[1;31m---------------------------------------------------------------------------\u001b[0m",
      "\u001b[1;31mTypeError\u001b[0m                                 Traceback (most recent call last)",
      "\u001b[1;32m<ipython-input-25-8871d1dab3b6>\u001b[0m in \u001b[0;36m<module>\u001b[1;34m\u001b[0m\n\u001b[0;32m      2\u001b[0m \u001b[1;33m\u001b[0m\u001b[0m\n\u001b[0;32m      3\u001b[0m \u001b[1;32mif\u001b[0m \u001b[1;33m(\u001b[0m\u001b[0mformat_checker\u001b[0m\u001b[1;33m(\u001b[0m\u001b[0mcnpj\u001b[0m\u001b[1;33m)\u001b[0m\u001b[1;33m)\u001b[0m\u001b[1;33m:\u001b[0m\u001b[1;33m\u001b[0m\u001b[1;33m\u001b[0m\u001b[0m\n\u001b[1;32m----> 4\u001b[1;33m     \u001b[1;32mif\u001b[0m \u001b[1;33m(\u001b[0m\u001b[0mvalidated_cnpj\u001b[0m\u001b[1;33m(\u001b[0m\u001b[0mcnpj\u001b[0m\u001b[1;33m)\u001b[0m\u001b[1;33m)\u001b[0m\u001b[1;33m:\u001b[0m\u001b[1;33m\u001b[0m\u001b[1;33m\u001b[0m\u001b[0m\n\u001b[0m\u001b[0;32m      5\u001b[0m         \u001b[0mprint\u001b[0m\u001b[1;33m(\u001b[0m\u001b[1;34m\"CNPJ correto!\"\u001b[0m\u001b[1;33m)\u001b[0m\u001b[1;33m\u001b[0m\u001b[1;33m\u001b[0m\u001b[0m\n\u001b[0;32m      6\u001b[0m     \u001b[1;32melse\u001b[0m\u001b[1;33m:\u001b[0m\u001b[1;33m\u001b[0m\u001b[1;33m\u001b[0m\u001b[0m\n",
      "\u001b[1;32m<ipython-input-24-2b9d2231dfc7>\u001b[0m in \u001b[0;36mvalidated_cnpj\u001b[1;34m(cnpj)\u001b[0m\n\u001b[0;32m      7\u001b[0m         \u001b[0minteger_cnpj\u001b[0m \u001b[1;33m=\u001b[0m \u001b[0mint\u001b[0m\u001b[1;33m(\u001b[0m\u001b[0mcnpj\u001b[0m\u001b[1;33m.\u001b[0m\u001b[0mreplace\u001b[0m\u001b[1;33m(\u001b[0m\u001b[1;34m'.'\u001b[0m\u001b[1;33m,\u001b[0m \u001b[1;34m''\u001b[0m\u001b[1;33m)\u001b[0m\u001b[1;33m.\u001b[0m\u001b[0mreplace\u001b[0m\u001b[1;33m(\u001b[0m\u001b[1;34m'/'\u001b[0m\u001b[1;33m,\u001b[0m \u001b[1;34m''\u001b[0m\u001b[1;33m)\u001b[0m\u001b[1;33m.\u001b[0m\u001b[0mreplace\u001b[0m\u001b[1;33m(\u001b[0m\u001b[1;34m'-'\u001b[0m\u001b[1;33m,\u001b[0m \u001b[1;34m''\u001b[0m\u001b[1;33m)\u001b[0m\u001b[1;33m)\u001b[0m\u001b[1;33m\u001b[0m\u001b[1;33m\u001b[0m\u001b[0m\n\u001b[0;32m      8\u001b[0m \u001b[1;33m\u001b[0m\u001b[0m\n\u001b[1;32m----> 9\u001b[1;33m     \u001b[0mdigit1\u001b[0m \u001b[1;33m=\u001b[0m \u001b[1;36m5\u001b[0m\u001b[1;33m*\u001b[0m\u001b[0minteger_cnpj\u001b[0m\u001b[1;33m[\u001b[0m\u001b[1;36m0\u001b[0m\u001b[1;33m]\u001b[0m \u001b[1;33m+\u001b[0m \u001b[1;36m4\u001b[0m\u001b[1;33m*\u001b[0m\u001b[0minteger_cnpj\u001b[0m\u001b[1;33m[\u001b[0m\u001b[1;36m1\u001b[0m\u001b[1;33m]\u001b[0m \u001b[1;33m+\u001b[0m \u001b[1;36m3\u001b[0m\u001b[1;33m*\u001b[0m\u001b[0minteger_cnpj\u001b[0m\u001b[1;33m[\u001b[0m\u001b[1;36m2\u001b[0m\u001b[1;33m]\u001b[0m \u001b[1;33m+\u001b[0m \u001b[1;36m2\u001b[0m\u001b[1;33m*\u001b[0m\u001b[0minteger_\u001b[0m\u001b[1;33m[\u001b[0m\u001b[1;36m3\u001b[0m\u001b[1;33m]\u001b[0m \u001b[1;33m+\u001b[0m \u001b[1;36m9\u001b[0m\u001b[1;33m*\u001b[0m\u001b[0minteger_cnpj\u001b[0m\u001b[1;33m[\u001b[0m\u001b[1;36m4\u001b[0m\u001b[1;33m]\u001b[0m\u001b[1;33m\u001b[0m\u001b[1;33m\u001b[0m\u001b[0m\n\u001b[0m\u001b[0;32m     10\u001b[0m     \u001b[0mdigit1\u001b[0m \u001b[1;33m+=\u001b[0m  \u001b[1;36m8\u001b[0m\u001b[1;33m*\u001b[0m\u001b[0minteger_cnpj\u001b[0m\u001b[1;33m[\u001b[0m\u001b[1;36m5\u001b[0m\u001b[1;33m]\u001b[0m \u001b[1;33m+\u001b[0m \u001b[1;36m7\u001b[0m\u001b[1;33m*\u001b[0m\u001b[0minteger_cnpj\u001b[0m\u001b[1;33m[\u001b[0m\u001b[1;36m6\u001b[0m\u001b[1;33m]\u001b[0m \u001b[1;33m+\u001b[0m \u001b[1;36m6\u001b[0m\u001b[1;33m*\u001b[0m\u001b[0minteger_cnpj\u001b[0m\u001b[1;33m[\u001b[0m\u001b[1;36m7\u001b[0m\u001b[1;33m]\u001b[0m \u001b[1;33m+\u001b[0m \u001b[1;36m5\u001b[0m\u001b[1;33m*\u001b[0m\u001b[0minteger_cnpj\u001b[0m\u001b[1;33m[\u001b[0m\u001b[1;36m8\u001b[0m\u001b[1;33m]\u001b[0m \u001b[1;33m+\u001b[0m \u001b[1;36m4\u001b[0m\u001b[1;33m*\u001b[0m\u001b[0minteger_cnpj\u001b[0m\u001b[1;33m[\u001b[0m\u001b[1;36m9\u001b[0m\u001b[1;33m]\u001b[0m\u001b[1;33m\u001b[0m\u001b[1;33m\u001b[0m\u001b[0m\n\u001b[0;32m     11\u001b[0m     \u001b[0mdigit1\u001b[0m \u001b[1;33m+=\u001b[0m  \u001b[1;36m3\u001b[0m\u001b[1;33m*\u001b[0m\u001b[0minteger_cnpj\u001b[0m\u001b[1;33m[\u001b[0m\u001b[1;36m10\u001b[0m\u001b[1;33m]\u001b[0m \u001b[1;33m+\u001b[0m \u001b[1;36m2\u001b[0m\u001b[1;33m*\u001b[0m\u001b[0minteger_cnpj\u001b[0m\u001b[1;33m[\u001b[0m\u001b[1;36m11\u001b[0m\u001b[1;33m]\u001b[0m\u001b[1;33m\u001b[0m\u001b[1;33m\u001b[0m\u001b[0m\n",
      "\u001b[1;31mTypeError\u001b[0m: 'int' object is not subscriptable"
     ]
    }
   ],
   "source": [
    "cnpj = input()\n",
    "\n",
    "if (format_checker(cnpj)):\n",
    "    if (validated_cnpj(cnpj)):\n",
    "        print(\"CNPJ correto!\")\n",
    "    else:\n",
    "        print(\"CNPJ incorreto - Digito verificador incorreto.\")\n",
    "else:\n",
    "    print(\"CNPJ incorreto - Erro de formatação.\")"
   ]
  },
  {
   "cell_type": "code",
   "execution_count": null,
   "metadata": {},
   "outputs": [],
   "source": []
  }
 ],
 "metadata": {
  "interpreter": {
   "hash": "24b38dd9283ecba2913cb82b18206c7cc2be8789d57a73405cb888b5f7474aca"
  },
  "kernelspec": {
   "display_name": "Python 3.9.4 64-bit (system)",
   "language": "python",
   "name": "python3"
  },
  "language_info": {
   "codemirror_mode": {
    "name": "ipython",
    "version": 3
   },
   "file_extension": ".py",
   "mimetype": "text/x-python",
   "name": "python",
   "nbconvert_exporter": "python",
   "pygments_lexer": "ipython3",
   "version": "3.8.8"
  },
  "orig_nbformat": 4
 },
 "nbformat": 4,
 "nbformat_minor": 2
}
