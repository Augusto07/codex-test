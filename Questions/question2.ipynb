{
 "cells": [
  {
   "cell_type": "markdown",
   "metadata": {},
   "source": [
    "# Question 02\n",
    "\n",
    "Considering two rectangles in a discrete grid (like pixels in a display), each defined by two\n",
    "points, return true if they intersect, false otherwise.\n",
    "\n",
    "* Note: the points are included in the rectangle and have a dimension of 1 unit; the rectangle (0, 0; 1, 1) have an area of 4 units"
   ]
  },
  {
   "cell_type": "code",
   "execution_count": 49,
   "metadata": {},
   "outputs": [],
   "source": [
    "def get_points(square, pts1, pts2):\n",
    "\n",
    "    total_points_A = []\n",
    "    for i in pts1:\n",
    "        total_points_A.append([square[0][0], i])\n",
    "        total_points_A.append([square[1][0], i])\n",
    "    for i in pts2:\n",
    "        total_points_A.append([i, square[0][1]])\n",
    "        total_points_A.append([i, square[1][1]])\n",
    "\n",
    "    return total_points_A"
   ]
  },
  {
   "cell_type": "code",
   "execution_count": 53,
   "metadata": {},
   "outputs": [],
   "source": [
    "def intersection(lst1, lst2):\n",
    "    intersec = []\n",
    "    for i in lst1:\n",
    "        for j in lst2:\n",
    "            if i == j:\n",
    "                intersec.append(i)\n",
    "    return intersec"
   ]
  },
  {
   "cell_type": "code",
   "execution_count": 54,
   "metadata": {},
   "outputs": [],
   "source": [
    "def intersects(A, B):\n",
    "\n",
    "    points1_A = {int(x) for x in range(A[0][1], A[1][1]+1)}\n",
    "    points2_A = {int(x) for x in range(A[0][0], A[1][0]+1)}\n",
    "    total_points_A = get_points(A, points1_A, points2_A)\n",
    "\n",
    "    points1_B = {int(x) for x in range(B[0][1], B[1][1]+1)}\n",
    "    points2_B = {int(x) for x in range(B[0][0], B[1][0]+1)}\n",
    "    total_points_B = get_points(B, points1_B, points2_B)\n",
    "\n",
    "    intersec = intersection(total_points_A, total_points_B)\n",
    "\n",
    "    if (intersec):\n",
    "        return True\n",
    "    else:\n",
    "        return False"
   ]
  },
  {
   "cell_type": "code",
   "execution_count": 56,
   "metadata": {},
   "outputs": [
    {
     "data": {
      "text/plain": [
       "True"
      ]
     },
     "execution_count": 56,
     "metadata": {},
     "output_type": "execute_result"
    }
   ],
   "source": [
    "A = [[3, 5], [11, 11]]\n",
    "B = [[11, 11], [15, 13]]\n",
    "\n",
    "intersects(A, B)\n"
   ]
  },
  {
   "cell_type": "code",
   "execution_count": null,
   "metadata": {},
   "outputs": [],
   "source": []
  }
 ],
 "metadata": {
  "interpreter": {
   "hash": "8d86c190dfcadcdaa67edec4a1ea82702241987b5b1f320c920d3d4ca36fee5b"
  },
  "kernelspec": {
   "display_name": "Python 3.8.8 64-bit ('base': conda)",
   "language": "python",
   "name": "python3"
  },
  "language_info": {
   "codemirror_mode": {
    "name": "ipython",
    "version": 3
   },
   "file_extension": ".py",
   "mimetype": "text/x-python",
   "name": "python",
   "nbconvert_exporter": "python",
   "pygments_lexer": "ipython3",
   "version": "3.8.8"
  },
  "orig_nbformat": 4
 },
 "nbformat": 4,
 "nbformat_minor": 2
}
